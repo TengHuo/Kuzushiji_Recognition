{
 "cells": [
  {
   "cell_type": "code",
   "execution_count": 1,
   "metadata": {},
   "outputs": [],
   "source": [
    "import numpy as np # linear algebra\n",
    "import pandas as pd # data processing, CSV file I/O (e.g. pd.read_csv)\n",
    "import cv2\n",
    "import matplotlib.pyplot as plt\n",
    "from pathlib import Path\n",
    "import os\n",
    "from multiprocessing import Pool"
   ]
  },
  {
   "cell_type": "code",
   "execution_count": null,
   "metadata": {},
   "outputs": [],
   "source": [
    "#preprocessing on a single image\n",
    "\n",
    "plt.figure(figsize=(20,20))\n",
    "img_0_orig = cv2.imread(img_0_path)\n",
    "img_0_orig = cv2.cvtColor(img_0_orig, cv2.COLOR_BGR2RGB)\n",
    "img_0 = cv2.imread(img_0_path)\n",
    "img_0 = cv2.cvtColor(img_0, cv2.COLOR_BGR2GRAY)\n",
    "blur = cv2.GaussianBlur(img_0,(3,3),0)\n",
    "sharp_mask = np.subtract(img_0, blur)\n",
    "img_0 = cv2.addWeighted(img_0,1, sharp_mask,10, 0)\n",
    "ret,th = cv2.threshold(blur,0,255,cv2.THRESH_BINARY+cv2.THRESH_OTSU)\n",
    "kernel_1 = np.ones((5,5),np.uint8)\n",
    "kernel_2 = np.ones((1,1),np.uint8)\n",
    "opening = cv2.morphologyEx(th, cv2.MORPH_OPEN, kernel_1)\n",
    "closing = cv2.morphologyEx(opening, cv2.MORPH_CLOSE, kernel_2)\n",
    "mask = cv2.bitwise_not(closing)\n",
    "mask = cv2.cvtColor(closing, cv2.COLOR_GRAY2RGB)\n",
    "img = cv2.add(img_0_orig,mask)\n",
    "blur_1 = cv2.GaussianBlur(img, (13,13), 0)\n",
    "sharp_mask_1 = np.subtract(img,blur_1)\n",
    "sharp_mask_1 = cv2.GaussianBlur(sharp_mask_1, (7,7), 0)\n",
    "img = cv2.addWeighted(img,1,sharp_mask_1,-10, 0)\n",
    "img = cv2.cvtColor(img, cv2.COLOR_BGR2GRAY)\n",
    "plt.imshow(img, cmap = 'gray')\n",
    "print(img_0_orig.shape)"
   ]
  },
  {
   "cell_type": "code",
   "execution_count": 2,
   "metadata": {},
   "outputs": [],
   "source": [
    "def processing_image(image_file, in_folder:Path, out_folder:Path):\n",
    "    image_path = str(in_folder / image_file)\n",
    "    img_0_orig = cv2.imread(image_path)\n",
    "    img_0_orig = cv2.cvtColor(img_0_orig, cv2.COLOR_BGR2RGB)\n",
    "    img_0 = cv2.imread(image_path)\n",
    "    img_0 = cv2.cvtColor(img_0, cv2.COLOR_BGR2GRAY)\n",
    "    blur = cv2.GaussianBlur(img_0,(3,3),0)\n",
    "    sharp_mask = np.subtract(img_0, blur)\n",
    "    img_0 = cv2.addWeighted(img_0,1, sharp_mask,10, 0)\n",
    "    ret,th = cv2.threshold(blur,0,255,cv2.THRESH_BINARY+cv2.THRESH_OTSU)\n",
    "    kernel_1 = np.ones((5,5),np.uint8)\n",
    "    kernel_2 = np.ones((1,1),np.uint8)\n",
    "    opening = cv2.morphologyEx(th, cv2.MORPH_OPEN, kernel_1)\n",
    "    closing = cv2.morphologyEx(opening, cv2.MORPH_CLOSE, kernel_2)\n",
    "    mask = cv2.bitwise_not(closing)\n",
    "    mask = cv2.cvtColor(closing, cv2.COLOR_GRAY2RGB)\n",
    "    img = cv2.add(img_0_orig,mask)\n",
    "    blur_1 = cv2.GaussianBlur(img, (13,13), 0)\n",
    "    sharp_mask_1 = np.subtract(img,blur_1)\n",
    "    sharp_mask_1 = cv2.GaussianBlur(sharp_mask_1, (7,7), 0)\n",
    "    img = cv2.addWeighted(img,1,sharp_mask_1,-10, 0)\n",
    "    img = cv2.cvtColor(img, cv2.COLOR_BGR2GRAY)\n",
    "    \n",
    "    cv2.imwrite(str(out_folder/image_file), img)"
   ]
  },
  {
   "cell_type": "code",
   "execution_count": null,
   "metadata": {},
   "outputs": [],
   "source": [
    "train_path = \"../input/train_images/\"\n",
    "test_path = \"../input/test_images/\"\n",
    "\n",
    "train_output = \"../input/processed_train/\"\n",
    "test_output = \"../input/processed_test/\"\n",
    "\n",
    "if not os.path.isdir(train_output):\n",
    "    os.mkdir(train_output)\n",
    "\n",
    "if not os.path.isdir(test_output):\n",
    "    os.mkdir(test_output)"
   ]
  },
  {
   "cell_type": "code",
   "execution_count": null,
   "metadata": {},
   "outputs": [],
   "source": [
    "files = os.listdir(train_path)\n",
    "train_images = []\n",
    "for file in files:\n",
    "    if not os.path.isdir(file):\n",
    "        train_images.append(file)\n",
    "\n",
    "files = os.listdir(test_path)\n",
    "test_images = []\n",
    "for file in files:\n",
    "    if not os.path.isdir(file):\n",
    "        test_images.append(file)"
   ]
  },
  {
   "cell_type": "code",
   "execution_count": null,
   "metadata": {},
   "outputs": [],
   "source": [
    "print(len(train_images))\n",
    "print(len(test_images))\n",
    "\n",
    "# print(train_images[0])\n",
    "# processing_image(train_images[0], Path(train_path), Path(train_output))"
   ]
  },
  {
   "cell_type": "code",
   "execution_count": null,
   "metadata": {},
   "outputs": [],
   "source": [
    "%%time\n",
    "\n",
    "pool = Pool(processes=8)\n",
    "for image_file in train_images:\n",
    "    pool.apply(processing_image, (image_file, Path(train_path), Path(train_output), ))\n",
    "pool.close()\n",
    "pool.join()"
   ]
  },
  {
   "cell_type": "code",
   "execution_count": null,
   "metadata": {},
   "outputs": [],
   "source": [
    "%%time\n",
    "\n",
    "pool = Pool(processes=8)\n",
    "for image_file in test_images:\n",
    "    pool.apply(processing_image, (image_file, Path(test_path), Path(test_output), ))\n",
    "pool.close()\n",
    "pool.join()"
   ]
  },
  {
   "cell_type": "code",
   "execution_count": null,
   "metadata": {},
   "outputs": [],
   "source": []
  },
  {
   "cell_type": "code",
   "execution_count": null,
   "metadata": {},
   "outputs": [],
   "source": []
  },
  {
   "cell_type": "code",
   "execution_count": null,
   "metadata": {},
   "outputs": [],
   "source": []
  }
 ],
 "metadata": {
  "kernelspec": {
   "display_name": "Python 3",
   "language": "python",
   "name": "python3"
  },
  "language_info": {
   "codemirror_mode": {
    "name": "ipython",
    "version": 3
   },
   "file_extension": ".py",
   "mimetype": "text/x-python",
   "name": "python",
   "nbconvert_exporter": "python",
   "pygments_lexer": "ipython3",
   "version": "3.6.9"
  }
 },
 "nbformat": 4,
 "nbformat_minor": 2
}
