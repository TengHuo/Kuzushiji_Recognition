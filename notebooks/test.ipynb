{
 "cells": [
  {
   "cell_type": "code",
   "execution_count": 1,
   "metadata": {},
   "outputs": [],
   "source": [
    "import pandas as pd\n",
    "import numpy as np\n",
    "from tqdm import tqdm_notebook as tqdm"
   ]
  },
  {
   "cell_type": "code",
   "execution_count": 2,
   "metadata": {},
   "outputs": [],
   "source": [
    "pred_center_result = pd.read_csv(\"../cache/train_result.csv\")\n",
    "pred_box_result = pd.read_csv(\"../cache/train_true_result.csv\")\n",
    "train_df = pd.read_csv(\"../input/train.csv\")"
   ]
  },
  {
   "cell_type": "code",
   "execution_count": 10,
   "metadata": {
    "scrolled": false
   },
   "outputs": [
    {
     "data": {
      "application/vnd.jupyter.widget-view+json": {
       "model_id": "91b90b87cdac4e8ebb255c649822a8c4",
       "version_major": 2,
       "version_minor": 0
      },
      "text/plain": [
       "HBox(children=(IntProgress(value=0, max=3881), HTML(value='')))"
      ]
     },
     "metadata": {},
     "output_type": "display_data"
    },
    {
     "name": "stdout",
     "output_type": "stream",
     "text": [
      "\n",
      "3284\n",
      "3881\n"
     ]
    }
   ],
   "source": [
    "count = 0\n",
    "for i in tqdm(range(train_df.shape[0])):\n",
    "    image_id = train_df.loc[i, \"image_id\"]\n",
    "    train_labels = train_df.loc[i, \"labels\"]\n",
    "    pred_centers = pred_center_result.loc[i, \"labels\"]\n",
    "    pred_boxes = pred_box_result.loc[i, \"labels\"]\n",
    "    if type(train_labels) is str and type(pred_centers) is str and type(pred_boxes) is str:\n",
    "        train_labels = np.array(train_labels.split(\" \")).reshape(-1, 5)\n",
    "        pred_centers = np.array(pred_centers.split(\" \")).reshape(-1, 3)\n",
    "        pred_boxes = np.array(pred_boxes.split(\" \")).reshape(-1, 5)\n",
    "        \n",
    "        if train_labels.shape[0] != pred_boxes.shape[0]:\n",
    "            count += 1\n",
    "print(count)\n",
    "print(train_df.shape[0])"
   ]
  },
  {
   "cell_type": "code",
   "execution_count": null,
   "metadata": {},
   "outputs": [],
   "source": []
  }
 ],
 "metadata": {
  "kernelspec": {
   "display_name": "Python 3",
   "language": "python",
   "name": "python3"
  },
  "language_info": {
   "codemirror_mode": {
    "name": "ipython",
    "version": 3
   },
   "file_extension": ".py",
   "mimetype": "text/x-python",
   "name": "python",
   "nbconvert_exporter": "python",
   "pygments_lexer": "ipython3",
   "version": "3.6.9"
  }
 },
 "nbformat": 4,
 "nbformat_minor": 2
}
